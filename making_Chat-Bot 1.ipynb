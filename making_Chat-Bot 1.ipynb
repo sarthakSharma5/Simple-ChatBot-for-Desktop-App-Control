{
 "cells": [
  {
   "cell_type": "code",
   "execution_count": 1,
   "metadata": {},
   "outputs": [],
   "source": [
    "import os\n",
    "import pyttsx3"
   ]
  },
  {
   "cell_type": "code",
   "execution_count": 5,
   "metadata": {},
   "outputs": [
    {
     "name": "stdout",
     "output_type": "stream",
     "text": [
      "\n",
      "\n",
      " What would you like to do: \n",
      "type 'exit' to end \n",
      "launch vlc\n",
      "\n",
      "\n",
      " What would you like to do: \n",
      "type 'exit' to end \n",
      "launch android studio\n",
      "\n",
      "\n",
      " What would you like to do: \n",
      "type 'exit' to end \n",
      "open visual studio code\n",
      "\n",
      "\n",
      " What would you like to do: \n",
      "type 'exit' to end \n",
      "get command line\n",
      "\n",
      "\n",
      " What would you like to do: \n",
      "type 'exit' to end \n",
      "get cmd\n",
      "\n",
      "\n",
      " What would you like to do: \n",
      "type 'exit' to end \n",
      "exit\n"
     ]
    }
   ],
   "source": [
    "check=\"null\"\n",
    "while True:\n",
    "    if check == \"exit\":\n",
    "        break\n",
    "    else:\n",
    "        prompt=input(\"\\n\\n What would you like to do: \\ntype 'exit' to end \\n\")\n",
    "        if (\"run\" in prompt or \"launch\" in prompt or \"open\" in prompt) and ((\"text editor\" in prompt) or (\"notepad\" in prompt)):\n",
    "            os.system(\"notepad\")\n",
    "        elif (\"run\" in prompt or \"launch\" in prompt or \"open\" in prompt) and ((\"browser\" in prompt) or (\"chrome\" in prompt)):\n",
    "            url=input(\"have some URL to open, give me: \\n - put no if dont : \")\n",
    "            if url != \"no\":\n",
    "                os.system(\"chrome \"+url)\n",
    "            else:\n",
    "                os.system(\"chrome\")\n",
    "        elif (\"run\" in prompt or \"launch\" in prompt or \"open\" in prompt) and (\"firefox\" in prompt):\n",
    "            url=input(\"have some URL to open, give me: \\n - put no if dont : \")\n",
    "            if url != \"no\":\n",
    "                os.system(\"firefox \"+url)\n",
    "            else:\n",
    "                os.system(\"firefox\")\n",
    "        elif (\"run\" in prompt or \"launch\" in prompt or \"open\" in prompt) and ((\"media player\" in prompt) or (\"windows media player\" in prompt) or (\"wmplayer\" in prompt)):\n",
    "            os.system(\"wmplayer\")\n",
    "        elif (\"run\" in prompt or \"launch\" in prompt or \"open\" in prompt) and ((\"vlc media player\" in prompt) or (\"vlc\" in prompt)):\n",
    "            os.system(\"vlc\")\n",
    "        elif (\"run\" in prompt or \"launch\" in prompt or \"open\" in prompt) and ((\"android studio\" in prompt) or (\"studio64.exe\" in prompt)):\n",
    "            os.system(\"studio64.exe\")\n",
    "        elif (\"run\" in prompt or \"launch\" in prompt or \"open\" in prompt) and ((\"visual studio code\" in prompt) or (\"vscode\" in prompt) or (\"code\" in prompt)):\n",
    "            os.system(\"code\")\n",
    "        elif (\"run\" in prompt or \"launch\" in prompt or \"open\" in prompt or \"get\" in prompt ) and ((\"command line\" in prompt) or (\"cmd\" in prompt) or (\"start\" in prompt)):\n",
    "            os.system(\"start\")\n",
    "        elif (prompt == \"exit\"):\n",
    "            pyttsx3.speak(\"Wish to see you again\")\n",
    "            break\n",
    "        else:\n",
    "            print(\"\\nNot Supported\\n\")"
   ]
  },
  {
   "cell_type": "code",
   "execution_count": null,
   "metadata": {},
   "outputs": [],
   "source": []
  }
 ],
 "metadata": {
  "kernelspec": {
   "display_name": "Python 3",
   "language": "python",
   "name": "python3"
  },
  "language_info": {
   "codemirror_mode": {
    "name": "ipython",
    "version": 3
   },
   "file_extension": ".py",
   "mimetype": "text/x-python",
   "name": "python",
   "nbconvert_exporter": "python",
   "pygments_lexer": "ipython3",
   "version": "3.8.5"
  }
 },
 "nbformat": 4,
 "nbformat_minor": 4
}
